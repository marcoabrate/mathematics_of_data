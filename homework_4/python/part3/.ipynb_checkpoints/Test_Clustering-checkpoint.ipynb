{
 "cells": [
  {
   "cell_type": "code",
   "execution_count": 1,
   "metadata": {},
   "outputs": [],
   "source": [
    "import numpy as np\n",
    "import matplotlib.pyplot as plt\n",
    "from scipy.sparse.linalg import eigsh, svds, eigs\n",
    "from math import sqrt\n",
    "import scipy.io as sio\n",
    "import random\n",
    "import numpy.matlib\n",
    "# fix the seed\n",
    "random.seed( 3 )"
   ]
  },
  {
   "cell_type": "code",
   "execution_count": 46,
   "metadata": {},
   "outputs": [
    {
     "name": "stdout",
     "output_type": "stream",
     "text": [
      "[[57.05339187]]\n"
     ]
    }
   ],
   "source": [
    "# Load data\n",
    "Problem = sio.loadmat('clustering_data.mat')\n",
    "C = np.double(Problem['C']) # euclidean distance matrix\n",
    "N = np.int(Problem['N']) # number of data points\n",
    "k = Problem['k'] # number of clusters\n",
    "opt_val = Problem['opt_val'] # optimum value \n",
    "print(opt_val)"
   ]
  },
  {
   "cell_type": "code",
   "execution_count": 3,
   "metadata": {},
   "outputs": [],
   "source": [
    "## Define operators\n",
    "# We provide 4 operators:\n",
    "# 1- A1: Linear operator that takes the row sums\n",
    "# 2- At2: Conjugate of operator A1\n",
    "# 3- A2: Linear operator that takes the column sums \n",
    "# 4- At2: Conjugate of operator A2\n",
    "A1 = lambda x: np.sum(x, axis = 1)\n",
    "At1 = lambda y: np.transpose(np.matlib.repmat(y, N, 1))\n",
    "A2 = lambda x: np.sum(x, axis = 0)\n",
    "At2 = lambda y: (np.matlib.repmat(y, N, 1))\n",
    "\n",
    "b = np.double(np.ones(N))"
   ]
  },
  {
   "cell_type": "code",
   "execution_count": 4,
   "metadata": {},
   "outputs": [],
   "source": [
    "# Plotting function\n",
    "def plot_func(cur_iter, feasibility1,feasibility2, objective, X):\n",
    "    plt.figure(figsize=(12, 8))\n",
    "    plt.subplot(221)\n",
    "    plt.loglog(cur_iter, feasibility1)\n",
    "    plt.xlabel('iteration',fontsize=15)\n",
    "    plt.ylabel('$\\|X1-1\\|/1$',fontsize=15)\n",
    "    plt.grid(True)\n",
    "\n",
    "    plt.subplot(222)\n",
    "    plt.loglog(cur_iter, feasibility2)\n",
    "    plt.xlabel('iteration',fontsize=15)\n",
    "    plt.ylabel('dist$(X, \\mathbb{R}^{n}_+)$',fontsize=15)\n",
    "    plt.grid(True)\n",
    "    plt.show()\n",
    "\n",
    "    #plt.subplot(223)\n",
    "    obj_res = np.reshape(np.abs(objective - opt_val)/opt_val, (len(objective),))\n",
    "    plt.figure(figsize=(12, 8))\n",
    "    plt.loglog((cur_iter), (obj_res))\n",
    "    plt.xlabel('iteration',fontsize=15)\n",
    "    plt.ylabel('$(f(X) - f^*)/f^*$',fontsize=15)\n",
    "    plt.title('Relative objective residual',fontsize=15)\n",
    "    plt.grid(True)\n",
    "    plt.show()\n",
    "    \n",
    "    plt.figure(figsize=(12, 8))\n",
    "    plt.imshow(X)\n",
    "    plt.title('SDP solution',fontsize=15)\n",
    "    plt.show()"
   ]
  },
  {
   "cell_type": "code",
   "execution_count": 82,
   "metadata": {},
   "outputs": [],
   "source": [
    "def HomotopyCGM(kappa=10, maxit=np.int(1e3), beta0=1):\n",
    "    # Initialize\n",
    "    X = np.zeros((N,N))\n",
    "    AX1_b = 0.0\n",
    "    \n",
    "    feasibility1 = [] # norm(A1(X)-b1)/norm(b1)\n",
    "    feasibility2 = [] # dist(X, \\mathcal{K})\n",
    "    objective    = [] # f(x)\n",
    "    cur_iter    = [] \n",
    "    \n",
    "    iter_track = np.unique(np.ceil(np.power(2, np.linspace(0,20,50))))\n",
    "    \n",
    "    for iteration in range(1, maxit+1):\n",
    "        \n",
    "        # Update Step Size\n",
    "        gamma = 2/(iteration+1)\n",
    "        \n",
    "        # Update beta\n",
    "        beta_ = beta0/np.sqrt(iteration+1)\n",
    "        \n",
    "        # Write down the vk to use in the lmo (eigenvalue routine)\n",
    "        vk = beta_*C + At1(A1(X) - b) + At2(A2(X) - b) + np.minimum(X, 0)\n",
    "        vk = 0.5*(vk + vk.T)\n",
    "        \n",
    "        # Linear minimization oracle\n",
    "        # use eigsh function with proper settings to calculate the lmo\n",
    "        # See Reference: https://docs.scipy.org/doc/scipy/reference/generated/scipy.sparse.linalg.eigsh.html#scipy.sparse.linalg.eigsh \n",
    "        q, u = eigsh(vk, k=1, which='SA')\n",
    "        u = sqrt(kappa)*u\n",
    "        X_bar = np.outer(u,u)\n",
    "        \n",
    "        # Obtain A*Xbar - b\n",
    "        AX_bar_b = A1(X_bar)-b\n",
    "        \n",
    "        # Update A*X - b\n",
    "        AX1_b = (1.0-gamma)*AX1_b + gamma*(AX_bar_b)\n",
    "        \n",
    "        # Update X\n",
    "        X = (1 - gamma)*X + gamma*X_bar\n",
    "                \n",
    "        if any(iteration == iter_track) or iteration==maxit:\n",
    "            feasibility1.append(np.linalg.norm(AX1_b)/N) \n",
    "            feasibility2.append(np.linalg.norm(np.minimum(X,0), ord='fro'))# distance to positive orthant\n",
    "            objective.append(np.sum(C.flatten()*X.flatten()))\n",
    "            cur_iter.append(iteration)\n",
    "            print('{:03d} | {:.4e}| {:.4e}| {:.4e}|'.format(iteration, feasibility1[-1], feasibility2[-1],objective[-1]))\n",
    "            \n",
    "    return X, feasibility1, feasibility2, objective, cur_iter"
   ]
  },
  {
   "cell_type": "code",
   "execution_count": null,
   "metadata": {},
   "outputs": [],
   "source": [
    "# Run the algorithm\n",
    "X, feasibility1, feasibility2, objective, cur_iter = HomotopyCGM(10, np.int(1e2), 1)"
   ]
  },
  {
   "cell_type": "code",
   "execution_count": null,
   "metadata": {
    "scrolled": false
   },
   "outputs": [],
   "source": [
    "# Plot the results\n",
    "plot_func(cur_iter, feasibility1,feasibility2, objective, X)"
   ]
  },
  {
   "cell_type": "code",
   "execution_count": null,
   "metadata": {},
   "outputs": [],
   "source": []
  }
 ],
 "metadata": {
  "kernelspec": {
   "display_name": "Python 3",
   "language": "python",
   "name": "python3"
  },
  "language_info": {
   "codemirror_mode": {
    "name": "ipython",
    "version": 3
   },
   "file_extension": ".py",
   "mimetype": "text/x-python",
   "name": "python",
   "nbconvert_exporter": "python",
   "pygments_lexer": "ipython3",
   "version": "3.6.5"
  }
 },
 "nbformat": 4,
 "nbformat_minor": 2
}
