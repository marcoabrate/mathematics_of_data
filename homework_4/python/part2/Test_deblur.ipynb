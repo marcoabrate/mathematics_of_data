{
 "cells": [
  {
   "cell_type": "code",
   "execution_count": null,
   "metadata": {
    "collapsed": false
   },
   "outputs": [],
   "source": [
    "import numpy as np\n",
    "from scipy.fftpack import fft2, fftshift, ifft2\n",
    "import matplotlib.pyplot as plt\n",
    "import scipy.sparse as sps\n",
    "from scipy.misc import imread\n",
    "from scipy.sparse.linalg import LinearOperator, svds\n",
    "from pywt import wavedec2, waverec2, coeffs_to_array, array_to_coeffs\n",
    "from collections import namedtuple\n",
    "from math import sqrt\n",
    "\n",
    "import time\n",
    "import pylab as pl\n",
    "from IPython import display\n"
   ]
  },
  {
   "cell_type": "code",
   "execution_count": null,
   "metadata": {
    "collapsed": false
   },
   "outputs": [],
   "source": [
    "# Mappings between n dimensional complex space and 2n dimensional real space\n",
    "real2comp = lambda x: x[0:x.shape[0]/2] + 1j*x[x.shape[0]/2:]\n",
    "comp2real = lambda x: np.append(x.real, x.imag)\n",
    "\n",
    "# Load Data\n",
    "x = imread('blurredplate.jpg',flatten=True,mode='F')\n",
    "x = x[60:188,40:296]\n",
    "x = x/np.linalg.norm(x,ord=np.inf)\n",
    "#x = x/np.linalg.norm(x)\n",
    "imsize1 = x.shape[0]\n",
    "imsize2 = x.shape[1]\n",
    "imsize = imsize1*imsize2\n",
    "\n",
    "# Shows the blurred image!\n",
    "plt.imshow(x, cmap='gray')\n",
    "plt.show()\n",
    "\n",
    "# Reshaping operators matrix to vector and vector to matrix\n",
    "mat = lambda x: np.reshape(x,[imsize1,imsize2])\n",
    "vec = lambda x: x.flatten()\n",
    "\n",
    "# Set the measurement vector b\n",
    "b = comp2real(vec(fft2(fftshift(x))))\n",
    "\n",
    "# Roughly estimate the support of the blur kernel\n",
    "K1 = 17\n",
    "K2 = 17\n",
    "Indw = np.zeros([imsize1,imsize2])\n",
    "ind1 = np.int(imsize1/2-(K1+1)/2+1)\n",
    "ind2 = np.int(imsize1/2+(K1+1)/2)\n",
    "ind3 = np.int(imsize2/2-(K2+1)/2+1)\n",
    "ind4 = np.int(imsize2/2+(K2+1)/2)\n",
    "Indw[ind1:ind2,ind3:ind4] = 1\n",
    "#above, for implementational simplicity we assume K1 and K2 odd, even  \n",
    "#if they are even 1 pixel probably won't cause much trouble\n",
    "plt.imshow(-Indw, cmap='gray') # Shows the estimated support of blur kernel!\n",
    "plt.show()\n",
    "Indw = vec(Indw);\n",
    "kernelsize = np.count_nonzero(Indw)\n",
    "Indi = np.nonzero(Indw > 0)[0]\n",
    "Indv = Indw[Indi]\n",
    "\n",
    "# Define operators Bop and Cop\n",
    "Bmat = sps.csr_matrix((Indv,(Indi,range(0,kernelsize))),shape=(imsize,kernelsize))\n",
    "Bop = lambda x: mat(Bmat.dot(x))\n",
    "BTop = lambda x: Bmat.T.dot(vec(x))\n",
    "\n",
    "# Compute and display wavelet coefficients of the original and blurred image\n",
    "l = coeffs_to_array(wavedec2(x, 'db1', level=4))[1]\n",
    "Cop = lambda x: waverec2(array_to_coeffs(mat(x),l,output_format='wavedec2'),'db1')\n",
    "CTop = lambda x: coeffs_to_array(wavedec2(x, 'db1', level=4))[0]\n",
    "\n",
    "# Define operators\n",
    "Aoper = lambda m,n,h: comp2real(1.0/sqrt(imsize)*n*vec(fft2(Cop(m))*fft2(Bop(h))))\n",
    "AToper = {\"matvec\": lambda y,w: CTop(np.real(fft2(mat(np.conj(real2comp(y))*vec(fft2(Bop(w)))))))/sqrt(y.shape[0]/2.0),\n",
    "         \"rmatvec\": lambda y,w: BTop(np.real(ifft2(mat(real2comp(y)*vec(ifft2(Cop(w)))))))*(y.shape[0]/2.0)**1.5}\n"
   ]
  },
  {
   "cell_type": "code",
   "execution_count": null,
   "metadata": {
    "collapsed": false
   },
   "outputs": [],
   "source": [
    "def plotFunc(mEst, C, x):\n",
    "    \n",
    "    xEst = -C(mEst);\n",
    "    xEst = xEst - min(xEst.flatten())\n",
    "    xEst = xEst/max(xEst.flatten())\n",
    "    plt.imshow(xEst, cmap='gray',hold=False)\n",
    "    plt.show()\n"
   ]
  },
  {
   "cell_type": "code",
   "execution_count": null,
   "metadata": {
    "collapsed": false
   },
   "outputs": [],
   "source": [
    "def FrankWolfe(Aoper, AToper, b, n1, n2, kappa, maxit, plotFunc):\n",
    "# PURPOSE: We will solve the following problem formulation with\n",
    "# Frank-Wolfe's method.                                    \n",
    "#                   min_x  0.5*norm(A(x) - b)^2        \n",
    "#                   s.t.:  norm_nuc(x) <= kappa,     \n",
    "#\n",
    "# Laboratory for Information and Inference Systems (LIONS)\n",
    "# Ecole Polytechnique Federale de Lausanne (EPFL) - SWITZERLAND\n",
    "# Last modification: November 26, 2017\n",
    "    \n",
    "    # Print the caption\n",
    "    \n",
    "    #Initialize \n",
    "    AX_t = 0.0   # zeros\n",
    "    X = 0.0      # zeros\n",
    "    \n",
    "    # keep track of objective value\n",
    "    fx = np.array([])\n",
    "        \n",
    "    # The main loop    \n",
    "    for iteration in range(0, maxit+1):\n",
    "        \n",
    "        # Print the objective values ...\n",
    "        fx = np.append(fx, 0.5*np.linalg.norm(AX_t - b,2)**2)\n",
    "        print('{:03d} | {:.4e}'.format(iteration, fx[-1]))\n",
    "\n",
    "        # Form the residual and fix the operator to be used in svds.\n",
    "        res_cur = AX_t - b\n",
    "        ATop1 = lambda w: AToper[\"matvec\"](???,w)\n",
    "        ATop2 = lambda w: AToper[\"rmatvec\"](???,w)\n",
    "        svdsArg = LinearOperator((n2,n1), matvec=ATop1, rmatvec=ATop2)\n",
    "        topLe_vec, singVal, topRe_vec = svds(svdsArg, k=1, tol=1e-4, which='LM')\n",
    "        # Note: we could also used svds. Lansvd and svds solve the same problem with similar\n",
    "        # but different approaches. Svds in older versions of Matlab does not accept function\n",
    "        # handles as inputs, this is why we rather used lansvd here. If you run into trouble\n",
    "        # with lansvd on your computer, try to use svds (with properly modifying the inputs)\n",
    "        \n",
    "        # Apply A to the rank 1 update\n",
    "        AXsharp_t = Aoper(topLe_vec, -kappa, topRe_vec.T)\n",
    "        \n",
    "        # Step size\n",
    "        weight = ???\n",
    "        \n",
    "        # Update A*X\n",
    "        AX_t = (1.0-weight)*AX_t + weight*(AXsharp_t)\n",
    "        \n",
    "        # Update X\n",
    "        X = ???\n",
    "        \n",
    "        # Show the reconstruction (at every 10 iteration) \n",
    "        if (float(iteration/10) == float(iteration)/10):\n",
    "            U,S,V = np.linalg.svd(X,full_matrices=0,compute_uv=1)\n",
    "            plotFunc(U[:,0])\n",
    "\n",
    "    return X\n",
    "    "
   ]
  },
  {
   "cell_type": "code",
   "execution_count": null,
   "metadata": {
    "collapsed": false
   },
   "outputs": [],
   "source": [
    "# Run Frank-Wolfe's method\n",
    "MaxIters = 200\n",
    "kappa = 1000\n",
    "plotF = lambda m: plotFunc(m,Cop,x)\n",
    "xFW = FrankWolfe(Aoper, AToper, b, kernelsize, imsize, kappa, MaxIters, plotF)"
   ]
  },
  {
   "cell_type": "code",
   "execution_count": null,
   "metadata": {
    "collapsed": true
   },
   "outputs": [],
   "source": [
    "# NOTE: This experiment is based on the theory and the codes publised in\n",
    "#'Blind Deconvolution using Convex Programming' by A.Ahmed, B.Recht and J.Romberg."
   ]
  },
  {
   "cell_type": "code",
   "execution_count": null,
   "metadata": {
    "collapsed": true
   },
   "outputs": [],
   "source": []
  }
 ],
 "metadata": {
  "anaconda-cloud": {},
  "kernelspec": {
   "display_name": "Python [conda root]",
   "language": "python",
   "name": "conda-root-py"
  },
  "language_info": {
   "codemirror_mode": {
    "name": "ipython",
    "version": 2
   },
   "file_extension": ".py",
   "mimetype": "text/x-python",
   "name": "python",
   "nbconvert_exporter": "python",
   "pygments_lexer": "ipython2",
   "version": "2.7.13"
  }
 },
 "nbformat": 4,
 "nbformat_minor": 2
}
