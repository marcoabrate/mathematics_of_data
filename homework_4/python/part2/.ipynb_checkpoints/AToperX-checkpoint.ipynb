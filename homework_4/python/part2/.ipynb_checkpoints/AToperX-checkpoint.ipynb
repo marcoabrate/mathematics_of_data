{
 "cells": [
  {
   "cell_type": "code",
   "execution_count": 39,
   "metadata": {
    "collapsed": true
   },
   "outputs": [],
   "source": [
    "import numpy as np\n",
    "from math import sqrt\n"
   ]
  },
  {
   "cell_type": "code",
   "execution_count": 42,
   "metadata": {
    "collapsed": false
   },
   "outputs": [],
   "source": [
    "def Aoper(m, s, h, CC, BB, L):\n",
    "    y = np.fft.fft2(CC(m))*np.fft.fft2(BB(h))\n",
    "    y = 1/sqrt(L)*s*y.flatten()\n",
    "    return np.append(y.real,y.imag)"
   ]
  },
  {
   "cell_type": "code",
   "execution_count": 47,
   "metadata": {
    "collapsed": false
   },
   "outputs": [],
   "source": [
    "def AToper1(y, w, C2, C1T, L1, L2):\n",
    "    mat = lambda x: np.reshape(x,[L1,L2])\n",
    "    siglen = y.size/2\n",
    "    yhat = y[0:siglen] + 1j*y[siglen:]\n",
    "    temp1 = np.flatten(np.fft.fft2(C2(w)))\n",
    "    temp3 = np.conj(yhat)*temp1\n",
    "    temp5 = C1T(np.real(np.fft.fft2(mat(temp3))))\n",
    "    return temp5/sqrt(siglen)"
   ]
  },
  {
   "cell_type": "code",
   "execution_count": 48,
   "metadata": {
    "collapsed": true
   },
   "outputs": [],
   "source": [
    "def AToper2(y, w, C1, C2T, L1, L2):\n",
    "    mat = lambda x: np.reshape(x,[L1,L2])\n",
    "    siglen = y.size/2\n",
    "    yhat = y[0:siglen] + 1j*y[siglen:]\n",
    "    temp2 = np.flatten(np.fft.ifft2(C1(w)))\n",
    "    temp4 = yhat*temp2\n",
    "    temp8 = np.fft.ifft2(mat(temp4))\n",
    "    # Check imaginarty part here \n",
    "    temp6 = C2T(np.real(temp8))\n",
    "    return temp6*siglen**1.5\n"
   ]
  }
 ],
 "metadata": {
  "kernelspec": {
   "display_name": "Python [conda root]",
   "language": "python",
   "name": "conda-root-py"
  },
  "language_info": {
   "codemirror_mode": {
    "name": "ipython",
    "version": 2
   },
   "file_extension": ".py",
   "mimetype": "text/x-python",
   "name": "python",
   "nbconvert_exporter": "python",
   "pygments_lexer": "ipython2",
   "version": "2.7.13"
  }
 },
 "nbformat": 4,
 "nbformat_minor": 2
}
